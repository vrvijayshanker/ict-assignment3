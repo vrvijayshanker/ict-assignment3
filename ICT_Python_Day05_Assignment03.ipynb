{
  "nbformat": 4,
  "nbformat_minor": 0,
  "metadata": {
    "colab": {
      "provenance": [],
      "authorship_tag": "ABX9TyM112BMtsc/yMZhcXG8Ixdd",
      "include_colab_link": true
    },
    "kernelspec": {
      "name": "python3",
      "display_name": "Python 3"
    },
    "language_info": {
      "name": "python"
    }
  },
  "cells": [
    {
      "cell_type": "markdown",
      "metadata": {
        "id": "view-in-github",
        "colab_type": "text"
      },
      "source": [
        "<a href=\"https://colab.research.google.com/github/vrvijayshanker/ict-assignment3/blob/main/ICT_Python_Day05_Assignment03.ipynb\" target=\"_parent\"><img src=\"https://colab.research.google.com/assets/colab-badge.svg\" alt=\"Open In Colab\"/></a>"
      ]
    },
    {
      "cell_type": "markdown",
      "source": [
        "1. Write a function that returns the middle value among three integers.Write code to test this function with different inputs.\n"
      ],
      "metadata": {
        "id": "hD1nuOvkFwyL"
      }
    },
    {
      "cell_type": "code",
      "source": [
        "def find_mid(a,b,c):\n",
        "  numbers = [a, b, c]\n",
        "\n",
        "  sorted_list = sorted(numbers)\n",
        "  return sorted_list[1]\n",
        "\n",
        "num1 = int(input('Enter a number: '))\n",
        "num2 = int(input('Enter another number: '))\n",
        "num3 = int(input('Enter another number: '))\n",
        "\n",
        "print('The Middle Value is:', find_mid(num1, num2, num3))\n"
      ],
      "metadata": {
        "id": "nNYF1ahPF3b1"
      },
      "execution_count": null,
      "outputs": []
    },
    {
      "cell_type": "markdown",
      "source": [
        "2. Build a calculator in Python using functions"
      ],
      "metadata": {
        "id": "Y6QxuN4RF5S5"
      }
    },
    {
      "cell_type": "code",
      "source": [
        "#Functions\n",
        "\n",
        "def add(n1,n2):\n",
        "  print('\\nSum:', n1+n2)\n",
        "\n",
        "def subtract(n1,n2):\n",
        "  print('\\nDifference:', n1-n2)\n",
        "\n",
        "def multiply(n1,n2):\n",
        "  print('\\nProduct:', n1*n2)\n",
        "\n",
        "def divide(n1,n2):\n",
        "  print('\\nResult:', n1/n2)\n",
        "  print('Quotient:', n1//n2)\n",
        "  print('Reminder:', n1%n2)\n",
        "\n",
        "# Main\n",
        "print('SIMPLE(ST) CALCULATOR\\n**************\\n')\n",
        "n1 = int(input('Enter first number: '))\n",
        "n2 = int(input('Enter second number: '))\n",
        "\n",
        "print('\\nSelect which calculation you want to do:')\n",
        "print('Type A to Add \\nType S to Subtract \\nType M to Multiply \\nType D to Divide')\n",
        "choice = input('Your Choice: ')\n",
        "\n",
        "if choice.lower() == 'a':\n",
        "  add(n1,n2)\n",
        "\n",
        "elif choice.lower() == 's':\n",
        "  subtract(n1,n2)\n",
        "\n",
        "elif choice.lower() == 'm':\n",
        "  multiply(n1,n2)\n",
        "\n",
        "elif choice.lower() == 'd':\n",
        "  divide(n1,n2)\n",
        "\n",
        "else:\n",
        "  print('Invalid Choice')"
      ],
      "metadata": {
        "colab": {
          "base_uri": "https://localhost:8080/"
        },
        "id": "tmx68A84GAbJ",
        "outputId": "59298797-06f1-42cf-81cc-40b313380277"
      },
      "execution_count": null,
      "outputs": [
        {
          "output_type": "stream",
          "name": "stdout",
          "text": [
            "SIMPLE(ST) CALCULATOR\n",
            "**************\n",
            "\n",
            "Enter first number: 30\n",
            "Enter second number: 3\n",
            "\n",
            "Select which calculation you want to do:\n",
            "Type A to Add \n",
            "Type S to Subtract \n",
            "Type M to Multiply \n",
            "Type D to Divide\n",
            "Your Choice: m\n",
            "\n",
            "Product: 90\n"
          ]
        }
      ]
    },
    {
      "cell_type": "markdown",
      "source": [
        "3. Write a function that takes the lengths of the two shorter sides of a right triangle as its parameters. Return the hypotenuse of the triangle, computed using Pythagorean theorem, as the function’s result."
      ],
      "metadata": {
        "id": "9DGrJ8P12VKX"
      }
    },
    {
      "cell_type": "code",
      "source": [
        "import math\n",
        "\n",
        "def pythogorean(a,b):\n",
        "  hypotenuse = math.sqrt((a**2)+(b**2))\n",
        "  return round(hypotenuse,2)\n",
        "\n",
        "sides = list(map(int,input(\"Enter 3 sides of a Triangle, separated by a comma: \").split(\",\")))\n",
        "print('Hypotenuse is: ', pythogorean(sides[0],sides[1]))"
      ],
      "metadata": {
        "colab": {
          "base_uri": "https://localhost:8080/"
        },
        "id": "YSGtHDmC2dDI",
        "outputId": "f76d2639-2db4-4589-8cec-0bca37429725"
      },
      "execution_count": null,
      "outputs": [
        {
          "output_type": "stream",
          "name": "stdout",
          "text": [
            "Enter 3 sides of a Triangle, separated by a comma: 30,60\n",
            "Hypotenuse is:  67.08\n"
          ]
        }
      ]
    },
    {
      "cell_type": "markdown",
      "source": [
        " 4. The Rectangle problem\n",
        "\n",
        "a. Write a Rectangle class in Python language, allowing you to build a rectangle with length and width attributes.\n",
        "\n",
        "b. Create a Perimeter() method to calculate the perimeter of the rectangle and a Area() method to calculate the area of the rectangle.\n",
        "\n",
        "c. Create a method display() that display the length, width, perimeter and area of an object created using an instantiation on rectangle class.\n"
      ],
      "metadata": {
        "id": "qn39H9ub6mwi"
      }
    },
    {
      "cell_type": "code",
      "source": [
        "class Rectangle:\n",
        "    def __init__(self, length, width):\n",
        "        self.length = length\n",
        "        self.width = width\n",
        "\n",
        "    def perimeter(self):\n",
        "      return 2 * (self.length + self.width)\n",
        "\n",
        "    def area(self):\n",
        "      return self.length * self.width\n",
        "\n",
        "    def display(self):\n",
        "      print('Length:', self.length)\n",
        "      print('Width:', self.width)\n",
        "      print('Perimeter:', self.perimeter())\n",
        "      print('Area:', self.area())\n",
        "\n",
        "# Main part\n",
        "rectange1 = Rectangle(10,5)\n",
        "rectange1.display()\n"
      ],
      "metadata": {
        "colab": {
          "base_uri": "https://localhost:8080/"
        },
        "id": "dYXW_gM_65cV",
        "outputId": "d804b1dc-ef66-47c2-86b2-0e8e3c08fffd"
      },
      "execution_count": null,
      "outputs": [
        {
          "output_type": "stream",
          "name": "stdout",
          "text": [
            "Length: 10\n",
            "Width: 5\n",
            "Perimeter: 30\n",
            "Area: 50\n"
          ]
        }
      ]
    },
    {
      "cell_type": "markdown",
      "source": [
        "5. The Bank Account problem\n",
        "\n",
        "(a) Create a Python class called BankAccount which represents a bank account, having as attributes: accountNumber (numeric type), name (name of the account owner as string type), balance.\n",
        "\n",
        "(b) Create a constructor with parameters: accountNumber, name, balance.\n",
        "\n",
        "(c) Create a Deposit() method which manages the deposit actions.\n",
        "\n",
        "(d) Create a Withdrawal() method which manages withdrawals actions.\n",
        "\n",
        "(e) Create an bankFees() method to apply the bank fees with a percentage of 5% of the balance account.\n",
        "\n",
        "(f) Create a display() method to display account details."
      ],
      "metadata": {
        "id": "RCf_3pIh8qPq"
      }
    },
    {
      "cell_type": "code",
      "source": [
        "class BankAccount:\n",
        "  def __init__(self, account_no, name, balance):\n",
        "    self.account_no = account_no\n",
        "    self.name = name\n",
        "    self.balance = balance\n",
        "\n",
        "  def deposit(self, amount):\n",
        "    # self.amount = amount\n",
        "    print('Existing Balance:', self.balance)\n",
        "    self.balance += amount\n",
        "    print('Deposit success. New balance:', self.balance)\n",
        "\n",
        "  def withdrawl(self, amount):\n",
        "    if amount > self.balance:\n",
        "      print('Insufficient Balance!')\n",
        "    else:\n",
        "      print('Existing Balance:', self.balance)\n",
        "      self.balance -= amount\n",
        "      print('Withdrawl success. New balance:', self.balance)\n",
        "\n",
        "  def bankfee(self):\n",
        "    bank_fee = self.balance/20\n",
        "    return bank_fee\n",
        "\n",
        "  def display(self):\n",
        "    print('\\nAccount Detais\\n*************')\n",
        "    print('Account Number:', self.account_no)\n",
        "    print('Name:', self.name)\n",
        "    print('Balance:', self.balance)\n",
        "    print('Bank Fee payable:', self.bankfee())\n",
        "    print('\\n')\n",
        "\n",
        "# main\n",
        "\n",
        "customer1 = BankAccount(1000101, 'Mohandas', 20000)\n",
        "\n",
        "customer1.deposit(10000)\n",
        "\n",
        "customer1.display()\n",
        "\n",
        "customer1.withdrawl(50000)"
      ],
      "metadata": {
        "id": "9dKIx96P8z3l",
        "colab": {
          "base_uri": "https://localhost:8080/"
        },
        "outputId": "01f75cf2-85f0-4c76-d37e-e229ab3e771f"
      },
      "execution_count": null,
      "outputs": [
        {
          "output_type": "stream",
          "name": "stdout",
          "text": [
            "Existing Balance: 20000\n",
            "Deposit success. New balance: 30000\n",
            "\n",
            "Account Detais\n",
            "*************\n",
            "Account Number: 1000101\n",
            "Name: Mohandas\n",
            "Balance: 30000\n",
            "Bank Fee payable: 1500.0\n",
            "Insufficient Balance!\n"
          ]
        }
      ]
    },
    {
      "cell_type": "code",
      "source": [],
      "metadata": {
        "id": "Hn50CzI9evn_"
      },
      "execution_count": null,
      "outputs": []
    }
  ]
}